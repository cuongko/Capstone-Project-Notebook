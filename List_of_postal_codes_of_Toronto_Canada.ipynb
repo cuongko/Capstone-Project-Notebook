{
  "nbformat": 4,
  "nbformat_minor": 0,
  "metadata": {
    "colab": {
      "name": "List of postal codes of Toronto Canada.ipynb",
      "provenance": [],
      "collapsed_sections": []
    },
    "kernelspec": {
      "name": "python3",
      "display_name": "Python 3"
    }
  },
  "cells": [
    {
      "cell_type": "markdown",
      "metadata": {
        "id": "z8XzrV8W0tFw"
      },
      "source": [
        "# List of postal codes of Toronto Canada"
      ]
    },
    {
      "cell_type": "markdown",
      "metadata": {
        "id": "a8W1DQ-LkDnz"
      },
      "source": [
        "This notebook use Beutiful Soup to scrap data from web to a dataframe"
      ]
    },
    {
      "cell_type": "code",
      "metadata": {
        "colab": {
          "base_uri": "https://localhost:8080/"
        },
        "id": "piyMSzdN2iTG",
        "outputId": "f4f1cfbe-87ea-4a4a-9c38-04375de8f2d3"
      },
      "source": [
        "# intall packages need\n",
        "!pip3 install requests\n",
        "!pip3 install beautifulsoup4"
      ],
      "execution_count": 1,
      "outputs": [
        {
          "output_type": "stream",
          "text": [
            "Requirement already satisfied: requests in /usr/local/lib/python3.6/dist-packages (2.23.0)\n",
            "Requirement already satisfied: certifi>=2017.4.17 in /usr/local/lib/python3.6/dist-packages (from requests) (2020.11.8)\n",
            "Requirement already satisfied: idna<3,>=2.5 in /usr/local/lib/python3.6/dist-packages (from requests) (2.10)\n",
            "Requirement already satisfied: chardet<4,>=3.0.2 in /usr/local/lib/python3.6/dist-packages (from requests) (3.0.4)\n",
            "Requirement already satisfied: urllib3!=1.25.0,!=1.25.1,<1.26,>=1.21.1 in /usr/local/lib/python3.6/dist-packages (from requests) (1.24.3)\n",
            "Requirement already satisfied: beautifulsoup4 in /usr/local/lib/python3.6/dist-packages (4.6.3)\n"
          ],
          "name": "stdout"
        }
      ]
    },
    {
      "cell_type": "code",
      "metadata": {
        "id": "aiZrkK6o0rhd"
      },
      "source": [
        "# Establish environment\n",
        "import numpy as np\n",
        "import pandas as pd\n",
        "import requests\n",
        "from bs4 import BeautifulSoup"
      ],
      "execution_count": 2,
      "outputs": []
    },
    {
      "cell_type": "code",
      "metadata": {
        "id": "PCfV9ZvG2oLg"
      },
      "source": [
        "# Load page from URL\n",
        "URL = 'https://en.wikipedia.org/wiki/List_of_postal_codes_of_Canada:_M'\n",
        "page = requests.get(URL)\n",
        "soup = BeautifulSoup(page.content, 'html.parser')"
      ],
      "execution_count": 3,
      "outputs": []
    },
    {
      "cell_type": "code",
      "metadata": {
        "id": "nPGgPSSg2KFg"
      },
      "source": [
        "# Print to see page content, use pprint for better display\n",
        "# This too long and we can pass this step\n",
        "# import pprint\n",
        "# pp = pprint.PrettyPrinter(indent=4)\n",
        "# pp.pprint(page.content)"
      ],
      "execution_count": 4,
      "outputs": []
    },
    {
      "cell_type": "code",
      "metadata": {
        "colab": {
          "base_uri": "https://localhost:8080/",
          "height": 139
        },
        "id": "z9OTB1BMC0k0",
        "outputId": "715b6010-8224-40ae-f385-a1365a3cf534"
      },
      "source": [
        "# use table to get data that we need\n",
        "venues = soup.find('table')\n",
        "venues.prettify()"
      ],
      "execution_count": 5,
      "outputs": [
        {
          "output_type": "execute_result",
          "data": {
            "application/vnd.google.colaboratory.intrinsic+json": {
              "type": "string"
            },
            "text/plain": [
              "'<table class=\"wikitable sortable\">\\n <tbody>\\n  <tr>\\n   <th>\\n    Postal Code\\n   </th>\\n   <th>\\n    Borough\\n   </th>\\n   <th>\\n    Neighbourhood\\n   </th>\\n  </tr>\\n  <tr>\\n   <td>\\n    M1A\\n   </td>\\n   <td>\\n    Not assigned\\n   </td>\\n   <td>\\n    Not assigned\\n   </td>\\n  </tr>\\n  <tr>\\n   <td>\\n    M2A\\n   </td>\\n   <td>\\n    Not assigned\\n   </td>\\n   <td>\\n    Not assigned\\n   </td>\\n  </tr>\\n  <tr>\\n   <td>\\n    M3A\\n   </td>\\n   <td>\\n    North York\\n   </td>\\n   <td>\\n    Parkwoods\\n   </td>\\n  </tr>\\n  <tr>\\n   <td>\\n    M4A\\n   </td>\\n   <td>\\n    North York\\n   </td>\\n   <td>\\n    Victoria Village\\n   </td>\\n  </tr>\\n  <tr>\\n   <td>\\n    M5A\\n   </td>\\n   <td>\\n    Downtown Toronto\\n   </td>\\n   <td>\\n    Regent Park, Harbourfront\\n   </td>\\n  </tr>\\n  <tr>\\n   <td>\\n    M6A\\n   </td>\\n   <td>\\n    North York\\n   </td>\\n   <td>\\n    Lawrence Manor, Lawrence Heights\\n   </td>\\n  </tr>\\n  <tr>\\n   <td>\\n    M7A\\n   </td>\\n   <td>\\n    Downtown Toronto\\n   </td>\\n   <td>\\n    Queen\\'s Park, Ontario Provincial Government\\n   </td>\\n  </tr>\\n  <tr>\\n   <td>\\n    M8A\\n   </td>\\n   <td>\\n    Not assigned\\n   </td>\\n   <td>\\n    Not assigned\\n   </td>\\n  </tr>\\n  <tr>\\n   <td>\\n    M9A\\n   </td>\\n   <td>\\n    Etobicoke\\n   </td>\\n   <td>\\n    Islington Avenue, Humber Valley Village\\n   </td>\\n  </tr>\\n  <tr>\\n   <td>\\n    M1B\\n   </td>\\n   <td>\\n    Scarborough\\n   </td>\\n   <td>\\n    Malvern, Rouge\\n   </td>\\n  </tr>\\n  <tr>\\n   <td>\\n    M2B\\n   </td>\\n   <td>\\n    Not assigned\\n   </td>\\n   <td>\\n    Not assigned\\n   </td>\\n  </tr>\\n  <tr>\\n   <td>\\n    M3B\\n   </td>\\n   <td>\\n    North York\\n   </td>\\n   <td>\\n    Don Mills\\n   </td>\\n  </tr>\\n  <tr>\\n   <td>\\n    M4B\\n   </td>\\n   <td>\\n    East York\\n   </td>\\n   <td>\\n    Parkview Hill, Woodbine Gardens\\n   </td>\\n  </tr>\\n  <tr>\\n   <td>\\n    M5B\\n   </td>\\n   <td>\\n    Downtown Toronto\\n   </td>\\n   <td>\\n    Garden District, Ryerson\\n   </td>\\n  </tr>\\n  <tr>\\n   <td>\\n    M6B\\n   </td>\\n   <td>\\n    North York\\n   </td>\\n   <td>\\n    Glencairn\\n   </td>\\n  </tr>\\n  <tr>\\n   <td>\\n    M7B\\n   </td>\\n   <td>\\n    Not assigned\\n   </td>\\n   <td>\\n    Not assigned\\n   </td>\\n  </tr>\\n  <tr>\\n   <td>\\n    M8B\\n   </td>\\n   <td>\\n    Not assigned\\n   </td>\\n   <td>\\n    Not assigned\\n   </td>\\n  </tr>\\n  <tr>\\n   <td>\\n    M9B\\n   </td>\\n   <td>\\n    Etobicoke\\n   </td>\\n   <td>\\n    West Deane Park, Princess Gardens, Martin Grove, Islington, Cloverdale\\n   </td>\\n  </tr>\\n  <tr>\\n   <td>\\n    M1C\\n   </td>\\n   <td>\\n    Scarborough\\n   </td>\\n   <td>\\n    Rouge Hill, Port Union, Highland Creek\\n   </td>\\n  </tr>\\n  <tr>\\n   <td>\\n    M2C\\n   </td>\\n   <td>\\n    Not assigned\\n   </td>\\n   <td>\\n    Not assigned\\n   </td>\\n  </tr>\\n  <tr>\\n   <td>\\n    M3C\\n   </td>\\n   <td>\\n    North York\\n   </td>\\n   <td>\\n    Don Mills\\n   </td>\\n  </tr>\\n  <tr>\\n   <td>\\n    M4C\\n   </td>\\n   <td>\\n    East York\\n   </td>\\n   <td>\\n    Woodbine Heights\\n   </td>\\n  </tr>\\n  <tr>\\n   <td>\\n    M5C\\n   </td>\\n   <td>\\n    Downtown Toronto\\n   </td>\\n   <td>\\n    St. James Town\\n   </td>\\n  </tr>\\n  <tr>\\n   <td>\\n    M6C\\n   </td>\\n   <td>\\n    York\\n   </td>\\n   <td>\\n    Humewood-Cedarvale\\n   </td>\\n  </tr>\\n  <tr>\\n   <td>\\n    M7C\\n   </td>\\n   <td>\\n    Not assigned\\n   </td>\\n   <td>\\n    Not assigned\\n   </td>\\n  </tr>\\n  <tr>\\n   <td>\\n    M8C\\n   </td>\\n   <td>\\n    Not assigned\\n   </td>\\n   <td>\\n    Not assigned\\n   </td>\\n  </tr>\\n  <tr>\\n   <td>\\n    M9C\\n   </td>\\n   <td>\\n    Etobicoke\\n   </td>\\n   <td>\\n    Eringate, Bloordale Gardens, Old Burnhamthorpe, Markland Wood\\n   </td>\\n  </tr>\\n  <tr>\\n   <td>\\n    M1E\\n   </td>\\n   <td>\\n    Scarborough\\n   </td>\\n   <td>\\n    Guildwood, Morningside, West Hill\\n   </td>\\n  </tr>\\n  <tr>\\n   <td>\\n    M2E\\n   </td>\\n   <td>\\n    Not assigned\\n   </td>\\n   <td>\\n    Not assigned\\n   </td>\\n  </tr>\\n  <tr>\\n   <td>\\n    M3E\\n   </td>\\n   <td>\\n    Not assigned\\n   </td>\\n   <td>\\n    Not assigned\\n   </td>\\n  </tr>\\n  <tr>\\n   <td>\\n    M4E\\n   </td>\\n   <td>\\n    East Toronto\\n   </td>\\n   <td>\\n    The Beaches\\n   </td>\\n  </tr>\\n  <tr>\\n   <td>\\n    M5E\\n   </td>\\n   <td>\\n    Downtown Toronto\\n   </td>\\n   <td>\\n    Berczy Park\\n   </td>\\n  </tr>\\n  <tr>\\n   <td>\\n    M6E\\n   </td>\\n   <td>\\n    York\\n   </td>\\n   <td>\\n    Caledonia-Fairbanks\\n   </td>\\n  </tr>\\n  <tr>\\n   <td>\\n    M7E\\n   </td>\\n   <td>\\n    Not assigned\\n   </td>\\n   <td>\\n    Not assigned\\n   </td>\\n  </tr>\\n  <tr>\\n   <td>\\n    M8E\\n   </td>\\n   <td>\\n    Not assigned\\n   </td>\\n   <td>\\n    Not assigned\\n   </td>\\n  </tr>\\n  <tr>\\n   <td>\\n    M9E\\n   </td>\\n   <td>\\n    Not assigned\\n   </td>\\n   <td>\\n    Not assigned\\n   </td>\\n  </tr>\\n  <tr>\\n   <td>\\n    M1G\\n   </td>\\n   <td>\\n    Scarborough\\n   </td>\\n   <td>\\n    Woburn\\n   </td>\\n  </tr>\\n  <tr>\\n   <td>\\n    M2G\\n   </td>\\n   <td>\\n    Not assigned\\n   </td>\\n   <td>\\n    Not assigned\\n   </td>\\n  </tr>\\n  <tr>\\n   <td>\\n    M3G\\n   </td>\\n   <td>\\n    Not assigned\\n   </td>\\n   <td>\\n    Not assigned\\n   </td>\\n  </tr>\\n  <tr>\\n   <td>\\n    M4G\\n   </td>\\n   <td>\\n    East York\\n   </td>\\n   <td>\\n    Leaside\\n   </td>\\n  </tr>\\n  <tr>\\n   <td>\\n    M5G\\n   </td>\\n   <td>\\n    Downtown Toronto\\n   </td>\\n   <td>\\n    Central Bay Street\\n   </td>\\n  </tr>\\n  <tr>\\n   <td>\\n    M6G\\n   </td>\\n   <td>\\n    Downtown Toronto\\n   </td>\\n   <td>\\n    Christie\\n   </td>\\n  </tr>\\n  <tr>\\n   <td>\\n    M7G\\n   </td>\\n   <td>\\n    Not assigned\\n   </td>\\n   <td>\\n    Not assigned\\n   </td>\\n  </tr>\\n  <tr>\\n   <td>\\n    M8G\\n   </td>\\n   <td>\\n    Not assigned\\n   </td>\\n   <td>\\n    Not assigned\\n   </td>\\n  </tr>\\n  <tr>\\n   <td>\\n    M9G\\n   </td>\\n   <td>\\n    Not assigned\\n   </td>\\n   <td>\\n    Not assigned\\n   </td>\\n  </tr>\\n  <tr>\\n   <td>\\n    M1H\\n   </td>\\n   <td>\\n    Scarborough\\n   </td>\\n   <td>\\n    Cedarbrae\\n   </td>\\n  </tr>\\n  <tr>\\n   <td>\\n    M2H\\n   </td>\\n   <td>\\n    North York\\n   </td>\\n   <td>\\n    Hillcrest Village\\n   </td>\\n  </tr>\\n  <tr>\\n   <td>\\n    M3H\\n   </td>\\n   <td>\\n    North York\\n   </td>\\n   <td>\\n    Bathurst Manor, Wilson Heights, Downsview North\\n   </td>\\n  </tr>\\n  <tr>\\n   <td>\\n    M4H\\n   </td>\\n   <td>\\n    East York\\n   </td>\\n   <td>\\n    Thorncliffe Park\\n   </td>\\n  </tr>\\n  <tr>\\n   <td>\\n    M5H\\n   </td>\\n   <td>\\n    Downtown Toronto\\n   </td>\\n   <td>\\n    Richmond, Adelaide, King\\n   </td>\\n  </tr>\\n  <tr>\\n   <td>\\n    M6H\\n   </td>\\n   <td>\\n    West Toronto\\n   </td>\\n   <td>\\n    Dufferin, Dovercourt Village\\n   </td>\\n  </tr>\\n  <tr>\\n   <td>\\n    M7H\\n   </td>\\n   <td>\\n    Not assigned\\n   </td>\\n   <td>\\n    Not assigned\\n   </td>\\n  </tr>\\n  <tr>\\n   <td>\\n    M8H\\n   </td>\\n   <td>\\n    Not assigned\\n   </td>\\n   <td>\\n    Not assigned\\n   </td>\\n  </tr>\\n  <tr>\\n   <td>\\n    M9H\\n   </td>\\n   <td>\\n    Not assigned\\n   </td>\\n   <td>\\n    Not assigned\\n   </td>\\n  </tr>\\n  <tr>\\n   <td>\\n    M1J\\n   </td>\\n   <td>\\n    Scarborough\\n   </td>\\n   <td>\\n    Scarborough Village\\n   </td>\\n  </tr>\\n  <tr>\\n   <td>\\n    M2J\\n   </td>\\n   <td>\\n    North York\\n   </td>\\n   <td>\\n    Fairview, Henry Farm, Oriole\\n   </td>\\n  </tr>\\n  <tr>\\n   <td>\\n    M3J\\n   </td>\\n   <td>\\n    North York\\n   </td>\\n   <td>\\n    Northwood Park, York University\\n   </td>\\n  </tr>\\n  <tr>\\n   <td>\\n    M4J\\n   </td>\\n   <td>\\n    East York\\n   </td>\\n   <td>\\n    East Toronto, Broadview North (Old East York)\\n   </td>\\n  </tr>\\n  <tr>\\n   <td>\\n    M5J\\n   </td>\\n   <td>\\n    Downtown Toronto\\n   </td>\\n   <td>\\n    Harbourfront East, Union Station, Toronto Islands\\n   </td>\\n  </tr>\\n  <tr>\\n   <td>\\n    M6J\\n   </td>\\n   <td>\\n    West Toronto\\n   </td>\\n   <td>\\n    Little Portugal, Trinity\\n   </td>\\n  </tr>\\n  <tr>\\n   <td>\\n    M7J\\n   </td>\\n   <td>\\n    Not assigned\\n   </td>\\n   <td>\\n    Not assigned\\n   </td>\\n  </tr>\\n  <tr>\\n   <td>\\n    M8J\\n   </td>\\n   <td>\\n    Not assigned\\n   </td>\\n   <td>\\n    Not assigned\\n   </td>\\n  </tr>\\n  <tr>\\n   <td>\\n    M9J\\n   </td>\\n   <td>\\n    Not assigned\\n   </td>\\n   <td>\\n    Not assigned\\n   </td>\\n  </tr>\\n  <tr>\\n   <td>\\n    M1K\\n   </td>\\n   <td>\\n    Scarborough\\n   </td>\\n   <td>\\n    Kennedy Park, Ionview, East Birchmount Park\\n   </td>\\n  </tr>\\n  <tr>\\n   <td>\\n    M2K\\n   </td>\\n   <td>\\n    North York\\n   </td>\\n   <td>\\n    Bayview Village\\n   </td>\\n  </tr>\\n  <tr>\\n   <td>\\n    M3K\\n   </td>\\n   <td>\\n    North York\\n   </td>\\n   <td>\\n    Downsview\\n   </td>\\n  </tr>\\n  <tr>\\n   <td>\\n    M4K\\n   </td>\\n   <td>\\n    East Toronto\\n   </td>\\n   <td>\\n    The Danforth West, Riverdale\\n   </td>\\n  </tr>\\n  <tr>\\n   <td>\\n    M5K\\n   </td>\\n   <td>\\n    Downtown Toronto\\n   </td>\\n   <td>\\n    Toronto Dominion Centre, Design Exchange\\n   </td>\\n  </tr>\\n  <tr>\\n   <td>\\n    M6K\\n   </td>\\n   <td>\\n    West Toronto\\n   </td>\\n   <td>\\n    Brockton, Parkdale Village, Exhibition Place\\n   </td>\\n  </tr>\\n  <tr>\\n   <td>\\n    M7K\\n   </td>\\n   <td>\\n    Not assigned\\n   </td>\\n   <td>\\n    Not assigned\\n   </td>\\n  </tr>\\n  <tr>\\n   <td>\\n    M8K\\n   </td>\\n   <td>\\n    Not assigned\\n   </td>\\n   <td>\\n    Not assigned\\n   </td>\\n  </tr>\\n  <tr>\\n   <td>\\n    M9K\\n   </td>\\n   <td>\\n    Not assigned\\n   </td>\\n   <td>\\n    Not assigned\\n   </td>\\n  </tr>\\n  <tr>\\n   <td>\\n    M1L\\n   </td>\\n   <td>\\n    Scarborough\\n   </td>\\n   <td>\\n    Golden Mile, Clairlea, Oakridge\\n   </td>\\n  </tr>\\n  <tr>\\n   <td>\\n    M2L\\n   </td>\\n   <td>\\n    North York\\n   </td>\\n   <td>\\n    York Mills, Silver Hills\\n   </td>\\n  </tr>\\n  <tr>\\n   <td>\\n    M3L\\n   </td>\\n   <td>\\n    North York\\n   </td>\\n   <td>\\n    Downsview\\n   </td>\\n  </tr>\\n  <tr>\\n   <td>\\n    M4L\\n   </td>\\n   <td>\\n    East Toronto\\n   </td>\\n   <td>\\n    India Bazaar, The Beaches West\\n   </td>\\n  </tr>\\n  <tr>\\n   <td>\\n    M5L\\n   </td>\\n   <td>\\n    Downtown Toronto\\n   </td>\\n   <td>\\n    Commerce Court, Victoria Hotel\\n   </td>\\n  </tr>\\n  <tr>\\n   <td>\\n    M6L\\n   </td>\\n   <td>\\n    North York\\n   </td>\\n   <td>\\n    North Park, Maple Leaf Park, Upwood Park\\n   </td>\\n  </tr>\\n  <tr>\\n   <td>\\n    M7L\\n   </td>\\n   <td>\\n    Not assigned\\n   </td>\\n   <td>\\n    Not assigned\\n   </td>\\n  </tr>\\n  <tr>\\n   <td>\\n    M8L\\n   </td>\\n   <td>\\n    Not assigned\\n   </td>\\n   <td>\\n    Not assigned\\n   </td>\\n  </tr>\\n  <tr>\\n   <td>\\n    M9L\\n   </td>\\n   <td>\\n    North York\\n   </td>\\n   <td>\\n    Humber Summit\\n   </td>\\n  </tr>\\n  <tr>\\n   <td>\\n    M1M\\n   </td>\\n   <td>\\n    Scarborough\\n   </td>\\n   <td>\\n    Cliffside, Cliffcrest, Scarborough Village West\\n   </td>\\n  </tr>\\n  <tr>\\n   <td>\\n    M2M\\n   </td>\\n   <td>\\n    North York\\n   </td>\\n   <td>\\n    Willowdale, Newtonbrook\\n   </td>\\n  </tr>\\n  <tr>\\n   <td>\\n    M3M\\n   </td>\\n   <td>\\n    North York\\n   </td>\\n   <td>\\n    Downsview\\n   </td>\\n  </tr>\\n  <tr>\\n   <td>\\n    M4M\\n   </td>\\n   <td>\\n    East Toronto\\n   </td>\\n   <td>\\n    Studio District\\n   </td>\\n  </tr>\\n  <tr>\\n   <td>\\n    M5M\\n   </td>\\n   <td>\\n    North York\\n   </td>\\n   <td>\\n    Bedford Park, Lawrence Manor East\\n   </td>\\n  </tr>\\n  <tr>\\n   <td>\\n    M6M\\n   </td>\\n   <td>\\n    York\\n   </td>\\n   <td>\\n    Del Ray, Mount Dennis, Keelsdale and Silverthorn\\n   </td>\\n  </tr>\\n  <tr>\\n   <td>\\n    M7M\\n   </td>\\n   <td>\\n    Not assigned\\n   </td>\\n   <td>\\n    Not assigned\\n   </td>\\n  </tr>\\n  <tr>\\n   <td>\\n    M8M\\n   </td>\\n   <td>\\n    Not assigned\\n   </td>\\n   <td>\\n    Not assigned\\n   </td>\\n  </tr>\\n  <tr>\\n   <td>\\n    M9M\\n   </td>\\n   <td>\\n    North York\\n   </td>\\n   <td>\\n    Humberlea, Emery\\n   </td>\\n  </tr>\\n  <tr>\\n   <td>\\n    M1N\\n   </td>\\n   <td>\\n    Scarborough\\n   </td>\\n   <td>\\n    Birch Cliff, Cliffside West\\n   </td>\\n  </tr>\\n  <tr>\\n   <td>\\n    M2N\\n   </td>\\n   <td>\\n    North York\\n   </td>\\n   <td>\\n    Willowdale, Willowdale East\\n   </td>\\n  </tr>\\n  <tr>\\n   <td>\\n    M3N\\n   </td>\\n   <td>\\n    North York\\n   </td>\\n   <td>\\n    Downsview\\n   </td>\\n  </tr>\\n  <tr>\\n   <td>\\n    M4N\\n   </td>\\n   <td>\\n    Central Toronto\\n   </td>\\n   <td>\\n    Lawrence Park\\n   </td>\\n  </tr>\\n  <tr>\\n   <td>\\n    M5N\\n   </td>\\n   <td>\\n    Central Toronto\\n   </td>\\n   <td>\\n    Roselawn\\n   </td>\\n  </tr>\\n  <tr>\\n   <td>\\n    M6N\\n   </td>\\n   <td>\\n    York\\n   </td>\\n   <td>\\n    Runnymede, The Junction North\\n   </td>\\n  </tr>\\n  <tr>\\n   <td>\\n    M7N\\n   </td>\\n   <td>\\n    Not assigned\\n   </td>\\n   <td>\\n    Not assigned\\n   </td>\\n  </tr>\\n  <tr>\\n   <td>\\n    M8N\\n   </td>\\n   <td>\\n    Not assigned\\n   </td>\\n   <td>\\n    Not assigned\\n   </td>\\n  </tr>\\n  <tr>\\n   <td>\\n    M9N\\n   </td>\\n   <td>\\n    York\\n   </td>\\n   <td>\\n    Weston\\n   </td>\\n  </tr>\\n  <tr>\\n   <td>\\n    M1P\\n   </td>\\n   <td>\\n    Scarborough\\n   </td>\\n   <td>\\n    Dorset Park, Wexford Heights, Scarborough Town Centre\\n   </td>\\n  </tr>\\n  <tr>\\n   <td>\\n    M2P\\n   </td>\\n   <td>\\n    North York\\n   </td>\\n   <td>\\n    York Mills West\\n   </td>\\n  </tr>\\n  <tr>\\n   <td>\\n    M3P\\n   </td>\\n   <td>\\n    Not assigned\\n   </td>\\n   <td>\\n    Not assigned\\n   </td>\\n  </tr>\\n  <tr>\\n   <td>\\n    M4P\\n   </td>\\n   <td>\\n    Central Toronto\\n   </td>\\n   <td>\\n    Davisville North\\n   </td>\\n  </tr>\\n  <tr>\\n   <td>\\n    M5P\\n   </td>\\n   <td>\\n    Central Toronto\\n   </td>\\n   <td>\\n    Forest Hill North &amp; West, Forest Hill Road Park\\n   </td>\\n  </tr>\\n  <tr>\\n   <td>\\n    M6P\\n   </td>\\n   <td>\\n    West Toronto\\n   </td>\\n   <td>\\n    High Park, The Junction South\\n   </td>\\n  </tr>\\n  <tr>\\n   <td>\\n    M7P\\n   </td>\\n   <td>\\n    Not assigned\\n   </td>\\n   <td>\\n    Not assigned\\n   </td>\\n  </tr>\\n  <tr>\\n   <td>\\n    M8P\\n   </td>\\n   <td>\\n    Not assigned\\n   </td>\\n   <td>\\n    Not assigned\\n   </td>\\n  </tr>\\n  <tr>\\n   <td>\\n    M9P\\n   </td>\\n   <td>\\n    Etobicoke\\n   </td>\\n   <td>\\n    Westmount\\n   </td>\\n  </tr>\\n  <tr>\\n   <td>\\n    M1R\\n   </td>\\n   <td>\\n    Scarborough\\n   </td>\\n   <td>\\n    Wexford, Maryvale\\n   </td>\\n  </tr>\\n  <tr>\\n   <td>\\n    M2R\\n   </td>\\n   <td>\\n    North York\\n   </td>\\n   <td>\\n    Willowdale, Willowdale West\\n   </td>\\n  </tr>\\n  <tr>\\n   <td>\\n    M3R\\n   </td>\\n   <td>\\n    Not assigned\\n   </td>\\n   <td>\\n    Not assigned\\n   </td>\\n  </tr>\\n  <tr>\\n   <td>\\n    M4R\\n   </td>\\n   <td>\\n    Central Toronto\\n   </td>\\n   <td>\\n    North Toronto West,  Lawrence Park\\n   </td>\\n  </tr>\\n  <tr>\\n   <td>\\n    M5R\\n   </td>\\n   <td>\\n    Central Toronto\\n   </td>\\n   <td>\\n    The Annex, North Midtown, Yorkville\\n   </td>\\n  </tr>\\n  <tr>\\n   <td>\\n    M6R\\n   </td>\\n   <td>\\n    West Toronto\\n   </td>\\n   <td>\\n    Parkdale, Roncesvalles\\n   </td>\\n  </tr>\\n  <tr>\\n   <td>\\n    M7R\\n   </td>\\n   <td>\\n    Mississauga\\n   </td>\\n   <td>\\n    Canada Post Gateway Processing Centre\\n   </td>\\n  </tr>\\n  <tr>\\n   <td>\\n    M8R\\n   </td>\\n   <td>\\n    Not assigned\\n   </td>\\n   <td>\\n    Not assigned\\n   </td>\\n  </tr>\\n  <tr>\\n   <td>\\n    M9R\\n   </td>\\n   <td>\\n    Etobicoke\\n   </td>\\n   <td>\\n    Kingsview Village, St. Phillips, Martin Grove Gardens, Richview Gardens\\n   </td>\\n  </tr>\\n  <tr>\\n   <td>\\n    M1S\\n   </td>\\n   <td>\\n    Scarborough\\n   </td>\\n   <td>\\n    Agincourt\\n   </td>\\n  </tr>\\n  <tr>\\n   <td>\\n    M2S\\n   </td>\\n   <td>\\n    Not assigned\\n   </td>\\n   <td>\\n    Not assigned\\n   </td>\\n  </tr>\\n  <tr>\\n   <td>\\n    M3S\\n   </td>\\n   <td>\\n    Not assigned\\n   </td>\\n   <td>\\n    Not assigned\\n   </td>\\n  </tr>\\n  <tr>\\n   <td>\\n    M4S\\n   </td>\\n   <td>\\n    Central Toronto\\n   </td>\\n   <td>\\n    Davisville\\n   </td>\\n  </tr>\\n  <tr>\\n   <td>\\n    M5S\\n   </td>\\n   <td>\\n    Downtown Toronto\\n   </td>\\n   <td>\\n    University of Toronto, Harbord\\n   </td>\\n  </tr>\\n  <tr>\\n   <td>\\n    M6S\\n   </td>\\n   <td>\\n    West Toronto\\n   </td>\\n   <td>\\n    Runnymede, Swansea\\n   </td>\\n  </tr>\\n  <tr>\\n   <td>\\n    M7S\\n   </td>\\n   <td>\\n    Not assigned\\n   </td>\\n   <td>\\n    Not assigned\\n   </td>\\n  </tr>\\n  <tr>\\n   <td>\\n    M8S\\n   </td>\\n   <td>\\n    Not assigned\\n   </td>\\n   <td>\\n    Not assigned\\n   </td>\\n  </tr>\\n  <tr>\\n   <td>\\n    M9S\\n   </td>\\n   <td>\\n    Not assigned\\n   </td>\\n   <td>\\n    Not assigned\\n   </td>\\n  </tr>\\n  <tr>\\n   <td>\\n    M1T\\n   </td>\\n   <td>\\n    Scarborough\\n   </td>\\n   <td>\\n    Clarks Corners, Tam O\\'Shanter, Sullivan\\n   </td>\\n  </tr>\\n  <tr>\\n   <td>\\n    M2T\\n   </td>\\n   <td>\\n    Not assigned\\n   </td>\\n   <td>\\n    Not assigned\\n   </td>\\n  </tr>\\n  <tr>\\n   <td>\\n    M3T\\n   </td>\\n   <td>\\n    Not assigned\\n   </td>\\n   <td>\\n    Not assigned\\n   </td>\\n  </tr>\\n  <tr>\\n   <td>\\n    M4T\\n   </td>\\n   <td>\\n    Central Toronto\\n   </td>\\n   <td>\\n    Moore Park, Summerhill East\\n   </td>\\n  </tr>\\n  <tr>\\n   <td>\\n    M5T\\n   </td>\\n   <td>\\n    Downtown Toronto\\n   </td>\\n   <td>\\n    Kensington Market, Chinatown, Grange Park\\n   </td>\\n  </tr>\\n  <tr>\\n   <td>\\n    M6T\\n   </td>\\n   <td>\\n    Not assigned\\n   </td>\\n   <td>\\n    Not assigned\\n   </td>\\n  </tr>\\n  <tr>\\n   <td>\\n    M7T\\n   </td>\\n   <td>\\n    Not assigned\\n   </td>\\n   <td>\\n    Not assigned\\n   </td>\\n  </tr>\\n  <tr>\\n   <td>\\n    M8T\\n   </td>\\n   <td>\\n    Not assigned\\n   </td>\\n   <td>\\n    Not assigned\\n   </td>\\n  </tr>\\n  <tr>\\n   <td>\\n    M9T\\n   </td>\\n   <td>\\n    Not assigned\\n   </td>\\n   <td>\\n    Not assigned\\n   </td>\\n  </tr>\\n  <tr>\\n   <td>\\n    M1V\\n   </td>\\n   <td>\\n    Scarborough\\n   </td>\\n   <td>\\n    Milliken, Agincourt North, Steeles East, L\\'Amoreaux East\\n   </td>\\n  </tr>\\n  <tr>\\n   <td>\\n    M2V\\n   </td>\\n   <td>\\n    Not assigned\\n   </td>\\n   <td>\\n    Not assigned\\n   </td>\\n  </tr>\\n  <tr>\\n   <td>\\n    M3V\\n   </td>\\n   <td>\\n    Not assigned\\n   </td>\\n   <td>\\n    Not assigned\\n   </td>\\n  </tr>\\n  <tr>\\n   <td>\\n    M4V\\n   </td>\\n   <td>\\n    Central Toronto\\n   </td>\\n   <td>\\n    Summerhill West, Rathnelly, South Hill, Forest Hill SE, Deer Park\\n   </td>\\n  </tr>\\n  <tr>\\n   <td>\\n    M5V\\n   </td>\\n   <td>\\n    Downtown Toronto\\n   </td>\\n   <td>\\n    CN Tower, King and Spadina, Railway Lands, Harbourfront West, Bathurst Quay, South Niagara, Island airport\\n   </td>\\n  </tr>\\n  <tr>\\n   <td>\\n    M6V\\n   </td>\\n   <td>\\n    Not assigned\\n   </td>\\n   <td>\\n    Not assigned\\n   </td>\\n  </tr>\\n  <tr>\\n   <td>\\n    M7V\\n   </td>\\n   <td>\\n    Not assigned\\n   </td>\\n   <td>\\n    Not assigned\\n   </td>\\n  </tr>\\n  <tr>\\n   <td>\\n    M8V\\n   </td>\\n   <td>\\n    Etobicoke\\n   </td>\\n   <td>\\n    New Toronto, Mimico South, Humber Bay Shores\\n   </td>\\n  </tr>\\n  <tr>\\n   <td>\\n    M9V\\n   </td>\\n   <td>\\n    Etobicoke\\n   </td>\\n   <td>\\n    South Steeles, Silverstone, Humbergate, Jamestown, Mount Olive, Beaumond Heights, Thistletown, Albion Gardens\\n   </td>\\n  </tr>\\n  <tr>\\n   <td>\\n    M1W\\n   </td>\\n   <td>\\n    Scarborough\\n   </td>\\n   <td>\\n    Steeles West, L\\'Amoreaux West\\n   </td>\\n  </tr>\\n  <tr>\\n   <td>\\n    M2W\\n   </td>\\n   <td>\\n    Not assigned\\n   </td>\\n   <td>\\n    Not assigned\\n   </td>\\n  </tr>\\n  <tr>\\n   <td>\\n    M3W\\n   </td>\\n   <td>\\n    Not assigned\\n   </td>\\n   <td>\\n    Not assigned\\n   </td>\\n  </tr>\\n  <tr>\\n   <td>\\n    M4W\\n   </td>\\n   <td>\\n    Downtown Toronto\\n   </td>\\n   <td>\\n    Rosedale\\n   </td>\\n  </tr>\\n  <tr>\\n   <td>\\n    M5W\\n   </td>\\n   <td>\\n    Downtown Toronto\\n   </td>\\n   <td>\\n    Stn A PO Boxes\\n   </td>\\n  </tr>\\n  <tr>\\n   <td>\\n    M6W\\n   </td>\\n   <td>\\n    Not assigned\\n   </td>\\n   <td>\\n    Not assigned\\n   </td>\\n  </tr>\\n  <tr>\\n   <td>\\n    M7W\\n   </td>\\n   <td>\\n    Not assigned\\n   </td>\\n   <td>\\n    Not assigned\\n   </td>\\n  </tr>\\n  <tr>\\n   <td>\\n    M8W\\n   </td>\\n   <td>\\n    Etobicoke\\n   </td>\\n   <td>\\n    Alderwood, Long Branch\\n   </td>\\n  </tr>\\n  <tr>\\n   <td>\\n    M9W\\n   </td>\\n   <td>\\n    Etobicoke\\n   </td>\\n   <td>\\n    Northwest, West Humber - Clairville\\n   </td>\\n  </tr>\\n  <tr>\\n   <td>\\n    M1X\\n   </td>\\n   <td>\\n    Scarborough\\n   </td>\\n   <td>\\n    Upper Rouge\\n   </td>\\n  </tr>\\n  <tr>\\n   <td>\\n    M2X\\n   </td>\\n   <td>\\n    Not assigned\\n   </td>\\n   <td>\\n    Not assigned\\n   </td>\\n  </tr>\\n  <tr>\\n   <td>\\n    M3X\\n   </td>\\n   <td>\\n    Not assigned\\n   </td>\\n   <td>\\n    Not assigned\\n   </td>\\n  </tr>\\n  <tr>\\n   <td>\\n    M4X\\n   </td>\\n   <td>\\n    Downtown Toronto\\n   </td>\\n   <td>\\n    St. James Town, Cabbagetown\\n   </td>\\n  </tr>\\n  <tr>\\n   <td>\\n    M5X\\n   </td>\\n   <td>\\n    Downtown Toronto\\n   </td>\\n   <td>\\n    First Canadian Place, Underground city\\n   </td>\\n  </tr>\\n  <tr>\\n   <td>\\n    M6X\\n   </td>\\n   <td>\\n    Not assigned\\n   </td>\\n   <td>\\n    Not assigned\\n   </td>\\n  </tr>\\n  <tr>\\n   <td>\\n    M7X\\n   </td>\\n   <td>\\n    Not assigned\\n   </td>\\n   <td>\\n    Not assigned\\n   </td>\\n  </tr>\\n  <tr>\\n   <td>\\n    M8X\\n   </td>\\n   <td>\\n    Etobicoke\\n   </td>\\n   <td>\\n    The Kingsway, Montgomery Road, Old Mill North\\n   </td>\\n  </tr>\\n  <tr>\\n   <td>\\n    M9X\\n   </td>\\n   <td>\\n    Not assigned\\n   </td>\\n   <td>\\n    Not assigned\\n   </td>\\n  </tr>\\n  <tr>\\n   <td>\\n    M1Y\\n   </td>\\n   <td>\\n    Not assigned\\n   </td>\\n   <td>\\n    Not assigned\\n   </td>\\n  </tr>\\n  <tr>\\n   <td>\\n    M2Y\\n   </td>\\n   <td>\\n    Not assigned\\n   </td>\\n   <td>\\n    Not assigned\\n   </td>\\n  </tr>\\n  <tr>\\n   <td>\\n    M3Y\\n   </td>\\n   <td>\\n    Not assigned\\n   </td>\\n   <td>\\n    Not assigned\\n   </td>\\n  </tr>\\n  <tr>\\n   <td>\\n    M4Y\\n   </td>\\n   <td>\\n    Downtown Toronto\\n   </td>\\n   <td>\\n    Church and Wellesley\\n   </td>\\n  </tr>\\n  <tr>\\n   <td>\\n    M5Y\\n   </td>\\n   <td>\\n    Not assigned\\n   </td>\\n   <td>\\n    Not assigned\\n   </td>\\n  </tr>\\n  <tr>\\n   <td>\\n    M6Y\\n   </td>\\n   <td>\\n    Not assigned\\n   </td>\\n   <td>\\n    Not assigned\\n   </td>\\n  </tr>\\n  <tr>\\n   <td>\\n    M7Y\\n   </td>\\n   <td>\\n    East Toronto\\n   </td>\\n   <td>\\n    Business reply mail Processing Centre, South Central Letter Processing Plant Toronto\\n   </td>\\n  </tr>\\n  <tr>\\n   <td>\\n    M8Y\\n   </td>\\n   <td>\\n    Etobicoke\\n   </td>\\n   <td>\\n    Old Mill South, King\\'s Mill Park, Sunnylea, Humber Bay, Mimico NE, The Queensway East, Royal York South East, Kingsway Park South East\\n   </td>\\n  </tr>\\n  <tr>\\n   <td>\\n    M9Y\\n   </td>\\n   <td>\\n    Not assigned\\n   </td>\\n   <td>\\n    Not assigned\\n   </td>\\n  </tr>\\n  <tr>\\n   <td>\\n    M1Z\\n   </td>\\n   <td>\\n    Not assigned\\n   </td>\\n   <td>\\n    Not assigned\\n   </td>\\n  </tr>\\n  <tr>\\n   <td>\\n    M2Z\\n   </td>\\n   <td>\\n    Not assigned\\n   </td>\\n   <td>\\n    Not assigned\\n   </td>\\n  </tr>\\n  <tr>\\n   <td>\\n    M3Z\\n   </td>\\n   <td>\\n    Not assigned\\n   </td>\\n   <td>\\n    Not assigned\\n   </td>\\n  </tr>\\n  <tr>\\n   <td>\\n    M4Z\\n   </td>\\n   <td>\\n    Not assigned\\n   </td>\\n   <td>\\n    Not assigned\\n   </td>\\n  </tr>\\n  <tr>\\n   <td>\\n    M5Z\\n   </td>\\n   <td>\\n    Not assigned\\n   </td>\\n   <td>\\n    Not assigned\\n   </td>\\n  </tr>\\n  <tr>\\n   <td>\\n    M6Z\\n   </td>\\n   <td>\\n    Not assigned\\n   </td>\\n   <td>\\n    Not assigned\\n   </td>\\n  </tr>\\n  <tr>\\n   <td>\\n    M7Z\\n   </td>\\n   <td>\\n    Not assigned\\n   </td>\\n   <td>\\n    Not assigned\\n   </td>\\n  </tr>\\n  <tr>\\n   <td>\\n    M8Z\\n   </td>\\n   <td>\\n    Etobicoke\\n   </td>\\n   <td>\\n    Mimico NW, The Queensway West, South of Bloor, Kingsway Park South West, Royal York South West\\n   </td>\\n  </tr>\\n  <tr>\\n   <td>\\n    M9Z\\n   </td>\\n   <td>\\n    Not assigned\\n   </td>\\n   <td>\\n    Not assigned\\n   </td>\\n  </tr>\\n </tbody>\\n</table>\\n'"
            ]
          },
          "metadata": {
            "tags": []
          },
          "execution_count": 5
        }
      ]
    },
    {
      "cell_type": "code",
      "metadata": {
        "id": "XKv5Rmkhd8rv"
      },
      "source": [
        "# We found that, all values we need standing after <td> mark\n",
        "# we load them into a list\n",
        "toronto = venues.find_all('td')"
      ],
      "execution_count": 6,
      "outputs": []
    },
    {
      "cell_type": "code",
      "metadata": {
        "colab": {
          "base_uri": "https://localhost:8080/"
        },
        "id": "n3pttsUaFCfz",
        "outputId": "fb76b4c2-60fd-4366-ca40-7a352f95bd0e"
      },
      "source": [
        "print(toronto[0].text.strip(), ' ', # item has order % 3 = 0 is Postal Code\n",
        "      toronto[1].text.strip(), ' ', # item has order % 3 = 1 is Borough\n",
        "      toronto[2].text.strip())      # item has order % 3 = 2 is Neighbourhood  "
      ],
      "execution_count": 7,
      "outputs": [
        {
          "output_type": "stream",
          "text": [
            "M1A   Not assigned   Not assigned\n"
          ],
          "name": "stdout"
        }
      ]
    },
    {
      "cell_type": "code",
      "metadata": {
        "colab": {
          "base_uri": "https://localhost:8080/",
          "height": 202
        },
        "id": "XIfYwv1JfLcR",
        "outputId": "b7bcb38a-daaf-40b1-d5b3-7051f100c2da"
      },
      "source": [
        "# extract values into lists and creat dataframe from these lists\n",
        "postal_code = []\n",
        "borough = []\n",
        "neighbourhood = []\n",
        "for i in range(0, len(toronto)):\n",
        "  if i % 3 == 0:\n",
        "    postal_code.append(toronto[i].text.strip())\n",
        "  elif i % 3 == 1:\n",
        "    borough.append(toronto[i].text.strip())\n",
        "  else:\n",
        "    neighbourhood.append(toronto[i].text.strip())\n",
        "\n",
        "# creat data frame\n",
        "df = pd.DataFrame(list(zip(postal_code, borough,neighbourhood)),\n",
        "                  columns = ['Postal Code', 'Borough', 'Neighbourhood'])\n",
        "\n",
        "df.head(5)"
      ],
      "execution_count": 8,
      "outputs": [
        {
          "output_type": "execute_result",
          "data": {
            "text/html": [
              "<div>\n",
              "<style scoped>\n",
              "    .dataframe tbody tr th:only-of-type {\n",
              "        vertical-align: middle;\n",
              "    }\n",
              "\n",
              "    .dataframe tbody tr th {\n",
              "        vertical-align: top;\n",
              "    }\n",
              "\n",
              "    .dataframe thead th {\n",
              "        text-align: right;\n",
              "    }\n",
              "</style>\n",
              "<table border=\"1\" class=\"dataframe\">\n",
              "  <thead>\n",
              "    <tr style=\"text-align: right;\">\n",
              "      <th></th>\n",
              "      <th>Postal Code</th>\n",
              "      <th>Borough</th>\n",
              "      <th>Neighbourhood</th>\n",
              "    </tr>\n",
              "  </thead>\n",
              "  <tbody>\n",
              "    <tr>\n",
              "      <th>0</th>\n",
              "      <td>M1A</td>\n",
              "      <td>Not assigned</td>\n",
              "      <td>Not assigned</td>\n",
              "    </tr>\n",
              "    <tr>\n",
              "      <th>1</th>\n",
              "      <td>M2A</td>\n",
              "      <td>Not assigned</td>\n",
              "      <td>Not assigned</td>\n",
              "    </tr>\n",
              "    <tr>\n",
              "      <th>2</th>\n",
              "      <td>M3A</td>\n",
              "      <td>North York</td>\n",
              "      <td>Parkwoods</td>\n",
              "    </tr>\n",
              "    <tr>\n",
              "      <th>3</th>\n",
              "      <td>M4A</td>\n",
              "      <td>North York</td>\n",
              "      <td>Victoria Village</td>\n",
              "    </tr>\n",
              "    <tr>\n",
              "      <th>4</th>\n",
              "      <td>M5A</td>\n",
              "      <td>Downtown Toronto</td>\n",
              "      <td>Regent Park, Harbourfront</td>\n",
              "    </tr>\n",
              "  </tbody>\n",
              "</table>\n",
              "</div>"
            ],
            "text/plain": [
              "  Postal Code           Borough              Neighbourhood\n",
              "0         M1A      Not assigned               Not assigned\n",
              "1         M2A      Not assigned               Not assigned\n",
              "2         M3A        North York                  Parkwoods\n",
              "3         M4A        North York           Victoria Village\n",
              "4         M5A  Downtown Toronto  Regent Park, Harbourfront"
            ]
          },
          "metadata": {
            "tags": []
          },
          "execution_count": 8
        }
      ]
    },
    {
      "cell_type": "code",
      "metadata": {
        "colab": {
          "base_uri": "https://localhost:8080/",
          "height": 202
        },
        "id": "I9NAyQQHiibi",
        "outputId": "e1f3cdfb-42bd-4183-a84b-f46d00ea57c4"
      },
      "source": [
        "# creat final data frame by filter value != 'Not assigned'\n",
        "df = df[df['Borough'] != 'Not assigned']\n",
        "df.head(5)"
      ],
      "execution_count": 9,
      "outputs": [
        {
          "output_type": "execute_result",
          "data": {
            "text/html": [
              "<div>\n",
              "<style scoped>\n",
              "    .dataframe tbody tr th:only-of-type {\n",
              "        vertical-align: middle;\n",
              "    }\n",
              "\n",
              "    .dataframe tbody tr th {\n",
              "        vertical-align: top;\n",
              "    }\n",
              "\n",
              "    .dataframe thead th {\n",
              "        text-align: right;\n",
              "    }\n",
              "</style>\n",
              "<table border=\"1\" class=\"dataframe\">\n",
              "  <thead>\n",
              "    <tr style=\"text-align: right;\">\n",
              "      <th></th>\n",
              "      <th>Postal Code</th>\n",
              "      <th>Borough</th>\n",
              "      <th>Neighbourhood</th>\n",
              "    </tr>\n",
              "  </thead>\n",
              "  <tbody>\n",
              "    <tr>\n",
              "      <th>2</th>\n",
              "      <td>M3A</td>\n",
              "      <td>North York</td>\n",
              "      <td>Parkwoods</td>\n",
              "    </tr>\n",
              "    <tr>\n",
              "      <th>3</th>\n",
              "      <td>M4A</td>\n",
              "      <td>North York</td>\n",
              "      <td>Victoria Village</td>\n",
              "    </tr>\n",
              "    <tr>\n",
              "      <th>4</th>\n",
              "      <td>M5A</td>\n",
              "      <td>Downtown Toronto</td>\n",
              "      <td>Regent Park, Harbourfront</td>\n",
              "    </tr>\n",
              "    <tr>\n",
              "      <th>5</th>\n",
              "      <td>M6A</td>\n",
              "      <td>North York</td>\n",
              "      <td>Lawrence Manor, Lawrence Heights</td>\n",
              "    </tr>\n",
              "    <tr>\n",
              "      <th>6</th>\n",
              "      <td>M7A</td>\n",
              "      <td>Downtown Toronto</td>\n",
              "      <td>Queen's Park, Ontario Provincial Government</td>\n",
              "    </tr>\n",
              "  </tbody>\n",
              "</table>\n",
              "</div>"
            ],
            "text/plain": [
              "  Postal Code           Borough                                Neighbourhood\n",
              "2         M3A        North York                                    Parkwoods\n",
              "3         M4A        North York                             Victoria Village\n",
              "4         M5A  Downtown Toronto                    Regent Park, Harbourfront\n",
              "5         M6A        North York             Lawrence Manor, Lawrence Heights\n",
              "6         M7A  Downtown Toronto  Queen's Park, Ontario Provincial Government"
            ]
          },
          "metadata": {
            "tags": []
          },
          "execution_count": 9
        }
      ]
    },
    {
      "cell_type": "code",
      "metadata": {
        "colab": {
          "base_uri": "https://localhost:8080/"
        },
        "id": "m861GP6opnh8",
        "outputId": "ad20b95e-cbd1-4a93-ad2c-63417eb91b88"
      },
      "source": [
        "df.shape"
      ],
      "execution_count": 10,
      "outputs": [
        {
          "output_type": "execute_result",
          "data": {
            "text/plain": [
              "(103, 3)"
            ]
          },
          "metadata": {
            "tags": []
          },
          "execution_count": 10
        }
      ]
    },
    {
      "cell_type": "markdown",
      "metadata": {
        "id": "qFoQ45mVwk0A"
      },
      "source": [
        "# Add Latitude and Longitude to data frame"
      ]
    },
    {
      "cell_type": "code",
      "metadata": {
        "colab": {
          "base_uri": "https://localhost:8080/",
          "height": 202
        },
        "id": "WrYSKw8mwxnE",
        "outputId": "75f0c419-e221-4cdc-ebdc-0f8dd10043a7"
      },
      "source": [
        "lng_lat = pd.read_csv('http://cocl.us/Geospatial_data')\n",
        "lng_lat.head(5)"
      ],
      "execution_count": 11,
      "outputs": [
        {
          "output_type": "execute_result",
          "data": {
            "text/html": [
              "<div>\n",
              "<style scoped>\n",
              "    .dataframe tbody tr th:only-of-type {\n",
              "        vertical-align: middle;\n",
              "    }\n",
              "\n",
              "    .dataframe tbody tr th {\n",
              "        vertical-align: top;\n",
              "    }\n",
              "\n",
              "    .dataframe thead th {\n",
              "        text-align: right;\n",
              "    }\n",
              "</style>\n",
              "<table border=\"1\" class=\"dataframe\">\n",
              "  <thead>\n",
              "    <tr style=\"text-align: right;\">\n",
              "      <th></th>\n",
              "      <th>Postal Code</th>\n",
              "      <th>Latitude</th>\n",
              "      <th>Longitude</th>\n",
              "    </tr>\n",
              "  </thead>\n",
              "  <tbody>\n",
              "    <tr>\n",
              "      <th>0</th>\n",
              "      <td>M1B</td>\n",
              "      <td>43.806686</td>\n",
              "      <td>-79.194353</td>\n",
              "    </tr>\n",
              "    <tr>\n",
              "      <th>1</th>\n",
              "      <td>M1C</td>\n",
              "      <td>43.784535</td>\n",
              "      <td>-79.160497</td>\n",
              "    </tr>\n",
              "    <tr>\n",
              "      <th>2</th>\n",
              "      <td>M1E</td>\n",
              "      <td>43.763573</td>\n",
              "      <td>-79.188711</td>\n",
              "    </tr>\n",
              "    <tr>\n",
              "      <th>3</th>\n",
              "      <td>M1G</td>\n",
              "      <td>43.770992</td>\n",
              "      <td>-79.216917</td>\n",
              "    </tr>\n",
              "    <tr>\n",
              "      <th>4</th>\n",
              "      <td>M1H</td>\n",
              "      <td>43.773136</td>\n",
              "      <td>-79.239476</td>\n",
              "    </tr>\n",
              "  </tbody>\n",
              "</table>\n",
              "</div>"
            ],
            "text/plain": [
              "  Postal Code   Latitude  Longitude\n",
              "0         M1B  43.806686 -79.194353\n",
              "1         M1C  43.784535 -79.160497\n",
              "2         M1E  43.763573 -79.188711\n",
              "3         M1G  43.770992 -79.216917\n",
              "4         M1H  43.773136 -79.239476"
            ]
          },
          "metadata": {
            "tags": []
          },
          "execution_count": 11
        }
      ]
    },
    {
      "cell_type": "code",
      "metadata": {
        "colab": {
          "base_uri": "https://localhost:8080/",
          "height": 202
        },
        "id": "pqAljZDGybCE",
        "outputId": "5cc5f523-f70e-493c-e089-7689e874e529"
      },
      "source": [
        "toronto_venues = pd.merge(df, lng_lat, on = 'Postal Code', how = 'inner')\n",
        "toronto_venues.head()"
      ],
      "execution_count": 17,
      "outputs": [
        {
          "output_type": "execute_result",
          "data": {
            "text/html": [
              "<div>\n",
              "<style scoped>\n",
              "    .dataframe tbody tr th:only-of-type {\n",
              "        vertical-align: middle;\n",
              "    }\n",
              "\n",
              "    .dataframe tbody tr th {\n",
              "        vertical-align: top;\n",
              "    }\n",
              "\n",
              "    .dataframe thead th {\n",
              "        text-align: right;\n",
              "    }\n",
              "</style>\n",
              "<table border=\"1\" class=\"dataframe\">\n",
              "  <thead>\n",
              "    <tr style=\"text-align: right;\">\n",
              "      <th></th>\n",
              "      <th>Postal Code</th>\n",
              "      <th>Borough</th>\n",
              "      <th>Neighbourhood</th>\n",
              "      <th>Latitude</th>\n",
              "      <th>Longitude</th>\n",
              "    </tr>\n",
              "  </thead>\n",
              "  <tbody>\n",
              "    <tr>\n",
              "      <th>0</th>\n",
              "      <td>M3A</td>\n",
              "      <td>North York</td>\n",
              "      <td>Parkwoods</td>\n",
              "      <td>43.753259</td>\n",
              "      <td>-79.329656</td>\n",
              "    </tr>\n",
              "    <tr>\n",
              "      <th>1</th>\n",
              "      <td>M4A</td>\n",
              "      <td>North York</td>\n",
              "      <td>Victoria Village</td>\n",
              "      <td>43.725882</td>\n",
              "      <td>-79.315572</td>\n",
              "    </tr>\n",
              "    <tr>\n",
              "      <th>2</th>\n",
              "      <td>M5A</td>\n",
              "      <td>Downtown Toronto</td>\n",
              "      <td>Regent Park, Harbourfront</td>\n",
              "      <td>43.654260</td>\n",
              "      <td>-79.360636</td>\n",
              "    </tr>\n",
              "    <tr>\n",
              "      <th>3</th>\n",
              "      <td>M6A</td>\n",
              "      <td>North York</td>\n",
              "      <td>Lawrence Manor, Lawrence Heights</td>\n",
              "      <td>43.718518</td>\n",
              "      <td>-79.464763</td>\n",
              "    </tr>\n",
              "    <tr>\n",
              "      <th>4</th>\n",
              "      <td>M7A</td>\n",
              "      <td>Downtown Toronto</td>\n",
              "      <td>Queen's Park, Ontario Provincial Government</td>\n",
              "      <td>43.662301</td>\n",
              "      <td>-79.389494</td>\n",
              "    </tr>\n",
              "  </tbody>\n",
              "</table>\n",
              "</div>"
            ],
            "text/plain": [
              "  Postal Code           Borough  ...   Latitude  Longitude\n",
              "0         M3A        North York  ...  43.753259 -79.329656\n",
              "1         M4A        North York  ...  43.725882 -79.315572\n",
              "2         M5A  Downtown Toronto  ...  43.654260 -79.360636\n",
              "3         M6A        North York  ...  43.718518 -79.464763\n",
              "4         M7A  Downtown Toronto  ...  43.662301 -79.389494\n",
              "\n",
              "[5 rows x 5 columns]"
            ]
          },
          "metadata": {
            "tags": []
          },
          "execution_count": 17
        }
      ]
    },
    {
      "cell_type": "code",
      "metadata": {
        "colab": {
          "base_uri": "https://localhost:8080/"
        },
        "id": "IWelZ_Bc1COr",
        "outputId": "84c2980a-a1e6-49c7-ee9e-99736412bc6e"
      },
      "source": [
        "toronto_venues.shape"
      ],
      "execution_count": 18,
      "outputs": [
        {
          "output_type": "execute_result",
          "data": {
            "text/plain": [
              "(103, 5)"
            ]
          },
          "metadata": {
            "tags": []
          },
          "execution_count": 18
        }
      ]
    }
  ]
}